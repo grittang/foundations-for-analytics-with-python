{
 "cells": [
  {
   "cell_type": "code",
   "execution_count": 7,
   "metadata": {},
   "outputs": [
    {
     "name": "stdout",
     "output_type": "stream",
     "text": [
      "Output #2: Four plus five equals 9.\n"
     ]
    }
   ],
   "source": [
    "x = 4\n",
    "y = 5\n",
    "z = x + y\n",
    "print(\"Output #2: Four plus five equals {0:d}.\".format(z))"
   ]
  },
  {
   "cell_type": "code",
   "execution_count": 4,
   "metadata": {},
   "outputs": [
    {
     "name": "stdout",
     "output_type": "stream",
     "text": [
      "Output #3: [1, 2, 3, 4], ['first', 'second', 'third', 'fourth'], [1, 2, 3, 4, 'first', 'second', 'third', 'fourth']\n"
     ]
    }
   ],
   "source": [
    "a = [1, 2, 3, 4]\n",
    "b = [\"first\", \"second\", \"third\", \"fourth\"]\n",
    "c = a + b\n",
    "print(\"Output #3: {0}, {1}, {2}\".format(a, b, c))"
   ]
  },
  {
   "cell_type": "code",
   "execution_count": 9,
   "metadata": {},
   "outputs": [
    {
     "name": "stdout",
     "output_type": "stream",
     "text": [
      "4.0\n"
     ]
    }
   ],
   "source": [
    "print(int(8.3)/int(2.7))"
   ]
  },
  {
   "cell_type": "markdown",
   "metadata": {},
   "source": [
    "# Strings: Split function"
   ]
  },
  {
   "cell_type": "code",
   "execution_count": 2,
   "metadata": {},
   "outputs": [
    {
     "name": "stdout",
     "output_type": "stream",
     "text": [
      "Output #21: ['My', 'deliverable', 'is', 'due', 'in', 'May']\n",
      "Output #22: FIRST PIECE:My SECONDE PIECE:deliverable THIRD PIECE:is due in May\n"
     ]
    }
   ],
   "source": [
    "string1 = \"My deliverable is due in May\"\n",
    "string1_list1 = string1.split() # Spliting the string on the space character(the default).\n",
    "string1_list2 = string1.split(\" \",2) # Only spliting on the first two single space characters.\n",
    "print(\"Output #21: {0}\".format(string1_list1))\n",
    "print(\"Output #22: FIRST PIECE:{0} SECONDE PIECE:{1} THIRD PIECE:{2}\"\\\n",
    "     .format(string1_list2[0], string1_list2[1], string1_list2[2]))"
   ]
  },
  {
   "cell_type": "markdown",
   "metadata": {},
   "source": [
    "# Strings: Strip function"
   ]
  },
  {
   "cell_type": "code",
   "execution_count": 9,
   "metadata": {},
   "outputs": [
    {
     "name": "stdout",
     "output_type": "stream",
     "text": [
      " Romove  unwanted characters   from this string.\t\t   \n",
      "\n",
      "Romove  unwanted characters   from this string.\t\t   \n",
      "\n",
      " Romove  unwanted characters   from this string.\n",
      "Romove  unwanted characters   from this string.\n"
     ]
    }
   ],
   "source": [
    "string3 = \" Romove  unwanted characters   from this string.\\t\\t   \\n\"\n",
    "print(string3)\n",
    "\n",
    "string3_lstrip = string3.lstrip()\n",
    "print(string3_lstrip)\n",
    "\n",
    "string3_rstrip = string3.rstrip()\n",
    "print(string3_rstrip)\n",
    "\n",
    "string3_strip = string3.strip()\n",
    "print(string3_strip)"
   ]
  },
  {
   "cell_type": "code",
   "execution_count": 11,
   "metadata": {},
   "outputs": [
    {
     "name": "stdout",
     "output_type": "stream",
     "text": [
      "$$Here's another string that has unwanted characters.__---++\n",
      "The unwanted characters have been removed.\n"
     ]
    }
   ],
   "source": [
    "string4 = \"$$Here's another string that has unwanted characters.__---++\"\n",
    "print(string4)\n",
    "\n",
    "string4 = \"$$The unwanted characters have been removed.__---++\"\n",
    "string4_strip = string4.strip('$_-+')\n",
    "print(string4_strip)"
   ]
  },
  {
   "cell_type": "markdown",
   "metadata": {},
   "source": [
    "# Regular Expressions and Pattern Matching"
   ]
  },
  {
   "cell_type": "code",
   "execution_count": 26,
   "metadata": {
    "collapsed": true
   },
   "outputs": [],
   "source": [
    "# Count the number of times a pattern appears in a string\n",
    "import re\n",
    "\n",
    "string = \"The quick brown fox jumps over the lazy dog.\"\n",
    "string_list = string.split()"
   ]
  },
  {
   "cell_type": "code",
   "execution_count": null,
   "metadata": {
    "collapsed": true
   },
   "outputs": [],
   "source": [
    "pattern = re.compile(r\"the\", re.I)\n",
    "count = 0\n",
    "for word in string_list:\n",
    "    if pattern.search(word):\n",
    "        count += 1\n",
    "print(count)"
   ]
  },
  {
   "cell_type": "code",
   "execution_count": 31,
   "metadata": {
    "collapsed": true
   },
   "outputs": [],
   "source": [
    "## pattern = re.compile(r\"(?P<match_word>The)\", re.I)</match_word>\n",
    "## print(\"Output #39:\")\n",
    "## for word in string_list:\n",
    "##    if pattern.search(word):\n",
    "##        print(\"{:s}\".format(pattern.search(word).group('match_word')))"
   ]
  },
  {
   "cell_type": "code",
   "execution_count": 32,
   "metadata": {},
   "outputs": [
    {
     "name": "stdout",
     "output_type": "stream",
     "text": [
      "a quick brown fox jumps over a lazy dog.\n"
     ]
    }
   ],
   "source": [
    "# Substitute the letter \"a\" for the word \"the\" in the string\n",
    "string_to_find = r\"The\"\n",
    "pattern = re.compile(string_to_find, re.I)\n",
    "print(pattern.sub(\"a\", string))"
   ]
  },
  {
   "cell_type": "markdown",
   "metadata": {},
   "source": [
    "# Dates"
   ]
  },
  {
   "cell_type": "code",
   "execution_count": 34,
   "metadata": {},
   "outputs": [
    {
     "name": "stdout",
     "output_type": "stream",
     "text": [
      "2017-08-10\n",
      "2017\n",
      "8\n",
      "10\n"
     ]
    }
   ],
   "source": [
    "from datetime import date, time, datetime, timedelta\n",
    "\n",
    "# Print today's date, as well as the year, month, and day elements\n",
    "today = date.today()\n",
    "print(today)\n",
    "print(today.year)\n",
    "print(today.month)\n",
    "print(today.day)"
   ]
  },
  {
   "cell_type": "code",
   "execution_count": 35,
   "metadata": {},
   "outputs": [
    {
     "name": "stdout",
     "output_type": "stream",
     "text": [
      "2017-08-10 15:28:29.676000\n"
     ]
    }
   ],
   "source": [
    "current_datetime = datetime.today()\n",
    "print(current_datetime)"
   ]
  },
  {
   "cell_type": "code",
   "execution_count": 37,
   "metadata": {},
   "outputs": [
    {
     "name": "stdout",
     "output_type": "stream",
     "text": [
      "2017-08-09\n",
      "-1\n",
      "57600\n"
     ]
    }
   ],
   "source": [
    "# Carculate a new date using a timedelta\n",
    "one_day = timedelta(days=-1)\n",
    "yesterday = today + one_day\n",
    "print(yesterday)\n",
    "eight_hours = timedelta(hours=-8)\n",
    "print(eight_hours.days)\n",
    "print(eight_hours.seconds)"
   ]
  },
  {
   "cell_type": "code",
   "execution_count": 41,
   "metadata": {},
   "outputs": [
    {
     "name": "stdout",
     "output_type": "stream",
     "text": [
      "1 day, 0:00:00\n",
      "['1', 'day,', '0:00:00']\n"
     ]
    }
   ],
   "source": [
    "# Carculate the number of days between two dates\n",
    "date_diff = today - yesterday\n",
    "print(date_diff)\n",
    "print(str(date_diff).split())"
   ]
  },
  {
   "cell_type": "code",
   "execution_count": 44,
   "metadata": {},
   "outputs": [
    {
     "name": "stdout",
     "output_type": "stream",
     "text": [
      "08/10/2017\n",
      "Aug 10, 2017\n",
      "2017-08-10\n",
      "August 10, 2017\n"
     ]
    }
   ],
   "source": [
    "# Create a string with a specific format from a date object\n",
    "print(today.strftime('%m/%d/%Y'))\n",
    "print(today.strftime('%b %d, %Y'))\n",
    "print(today.strftime('%Y-%m-%d'))\n",
    "print(today.strftime('%B %d, %Y'))"
   ]
  },
  {
   "cell_type": "markdown",
   "metadata": {
    "collapsed": true
   },
   "source": [
    "# Sorted"
   ]
  },
  {
   "cell_type": "code",
   "execution_count": 9,
   "metadata": {},
   "outputs": [
    {
     "name": "stdout",
     "output_type": "stream",
     "text": [
      "[[1, 2, 3, 4], [4, 3, 2, 1], [2, 4, 1, 3]]\n",
      "[[2, 4, 1, 3], [4, 3, 2, 1], [1, 2, 3, 4]]\n"
     ]
    }
   ],
   "source": [
    "# Use sorted() to sort a collection of lists by a position in the lists\n",
    "my_lists = [[1,2,3,4], [4,3,2,1], [2,4,1,3]]\n",
    "my_lists_unsorted = my_lists[:] # Use [:] to make a copy of list\n",
    "my_lists_sorted_by_index_3 = sorted(my_lists, key=lambda index_value:\\\n",
    "                                    index_value[2])\n",
    "print(my_lists_unsorted)\n",
    "print(my_lists_sorted_by_index_3)"
   ]
  },
  {
   "cell_type": "code",
   "execution_count": null,
   "metadata": {
    "collapsed": true
   },
   "outputs": [],
   "source": [
    "from operator import itemgetter\n",
    "# Use itemgetter() to sort a collection of lists by two index positions\n"
   ]
  },
  {
   "cell_type": "markdown",
   "metadata": {},
   "source": [
    "# Turples:"
   ]
  },
  {
   "cell_type": "code",
   "execution_count": 10,
   "metadata": {},
   "outputs": [
    {
     "name": "stdout",
     "output_type": "stream",
     "text": [
      "('x', 'y', 'z')\n"
     ]
    }
   ],
   "source": [
    "# Use parentheses to create a tuple\n",
    "my_tuple = ('x', 'y', 'z')\n",
    "print(my_tuple)"
   ]
  },
  {
   "cell_type": "code",
   "execution_count": 12,
   "metadata": {},
   "outputs": [
    {
     "name": "stdout",
     "output_type": "stream",
     "text": [
      "x y z\n"
     ]
    }
   ],
   "source": [
    "# Unpack tuples with the lefthand side of an assignment operator\n",
    "one, two, three = my_tuple\n",
    "print(one, two, three)"
   ]
  },
  {
   "cell_type": "code",
   "execution_count": 13,
   "metadata": {},
   "outputs": [
    {
     "name": "stdout",
     "output_type": "stream",
     "text": [
      "red robin\n"
     ]
    }
   ],
   "source": [
    "var1 = 'red'\n",
    "var2 = 'robin'\n",
    "print(var1, var2)"
   ]
  },
  {
   "cell_type": "code",
   "execution_count": 14,
   "metadata": {},
   "outputs": [
    {
     "name": "stdout",
     "output_type": "stream",
     "text": [
      "robin red\n"
     ]
    }
   ],
   "source": [
    "# Swap values between variables\n",
    "var1, var2 = var2, var1\n",
    "print(var1, var2)"
   ]
  },
  {
   "cell_type": "code",
   "execution_count": 15,
   "metadata": {},
   "outputs": [
    {
     "name": "stdout",
     "output_type": "stream",
     "text": [
      "(1, 2, 3)\n",
      "['x', 'y', 'z']\n"
     ]
    }
   ],
   "source": [
    "# Convert tuples to lists (and vice versa)\n",
    "my_list = [1, 2, 3]\n",
    "my_tuple = ('x', 'y', 'z')\n",
    "print(tuple(my_list))\n",
    "print(list(my_tuple))"
   ]
  },
  {
   "cell_type": "markdown",
   "metadata": {},
   "source": [
    "# Dictionaries"
   ]
  },
  {
   "cell_type": "code",
   "execution_count": 17,
   "metadata": {},
   "outputs": [
    {
     "name": "stdout",
     "output_type": "stream",
     "text": [
      "{'one': 1, 'two': 2, 'three': 3}\n",
      "3\n"
     ]
    }
   ],
   "source": [
    "a_dict = {'one':1, 'two':2, 'three':3}\n",
    "print(a_dict)\n",
    "print(len(a_dict)) # len() counts the number of key-value pairs in a dict"
   ]
  },
  {
   "cell_type": "code",
   "execution_count": 21,
   "metadata": {
    "scrolled": true
   },
   "outputs": [
    {
     "name": "stdout",
     "output_type": "stream",
     "text": [
      "2\n",
      "dict_keys(['one', 'two', 'three'])\n",
      "dict_values([1, 2, 3])\n",
      "dict_items([('one', 1), ('two', 2), ('three', 3)])\n"
     ]
    }
   ],
   "source": [
    "# Access\n",
    "print(a_dict['two']) # Use keys to access specific values in a dict\n",
    "print(a_dict.keys()) # Use keys() to access a dict's keys\n",
    "print(a_dict.values()) # Use keys() to access a dict's values\n",
    "print(a_dict.items()) # Use keys() to access a dict's key-value pairs"
   ]
  },
  {
   "cell_type": "code",
   "execution_count": 43,
   "metadata": {},
   "outputs": [
    {
     "name": "stdout",
     "output_type": "stream",
     "text": [
      "[('one', 1), ('three', 3), ('two', 2)]\n",
      "[('one', 1), ('two', 2), ('three', 3)]\n",
      "[('three', 3), ('two', 2), ('one', 1)]\n",
      "[('one', 1), ('two', 2), ('three', 3)]\n"
     ]
    }
   ],
   "source": [
    "# To sort a dictionary without changing the original dictionary,\n",
    "# make a copy first\n",
    "dict_copy = a_dict.copy()\n",
    "\n",
    "ordered_dict1 = sorted(dict_copy.items(), key=lambda item:item[0]) # order by keys\n",
    "print(ordered_dict1)\n",
    "ordered_dict2 = sorted(dict_copy.items(), key=lambda item:item[1]) # order by values\n",
    "print(ordered_dict2)\n",
    "ordered_dict3 = sorted(dict_copy.items(), key=lambda x: x[1], reverse=True) # order by values, descending\n",
    "print(ordered_dict3)\n",
    "ordered_dict4 = sorted(dict_copy.items(), key=lambda x: x[1], reverse=False) # order by values, ascending\n",
    "print(ordered_dict4)"
   ]
  },
  {
   "cell_type": "code",
   "execution_count": 45,
   "metadata": {},
   "outputs": [
    {
     "name": "stdout",
     "output_type": "stream",
     "text": [
      "3\n",
      "None\n",
      "Not in dict\n",
      "three\n"
     ]
    }
   ],
   "source": [
    "# Using get\n",
    "print(a_dict.get('three'))\n",
    "print(a_dict.get('four'))\n",
    "print(a_dict.get('four', 'Not in dict'))\n",
    "print(a_dict.get('four', 'three'))"
   ]
  },
  {
   "cell_type": "code",
   "execution_count": null,
   "metadata": {
    "collapsed": true
   },
   "outputs": [],
   "source": []
  }
 ],
 "metadata": {
  "anaconda-cloud": {},
  "kernelspec": {
   "display_name": "Python 3",
   "language": "python",
   "name": "python3"
  },
  "language_info": {
   "codemirror_mode": {
    "name": "ipython",
    "version": 3
   },
   "file_extension": ".py",
   "mimetype": "text/x-python",
   "name": "python",
   "nbconvert_exporter": "python",
   "pygments_lexer": "ipython3",
   "version": "3.6.1"
  }
 },
 "nbformat": 4,
 "nbformat_minor": 2
}
